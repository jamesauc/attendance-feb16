{
  "nbformat": 4,
  "nbformat_minor": 0,
  "metadata": {
    "colab": {
      "provenance": [],
      "authorship_tag": "ABX9TyNm8Ki4qlFivapkA+tI+x00",
      "include_colab_link": true
    },
    "kernelspec": {
      "name": "python3",
      "display_name": "Python 3"
    },
    "language_info": {
      "name": "python"
    }
  },
  "cells": [
    {
      "cell_type": "markdown",
      "metadata": {
        "id": "view-in-github",
        "colab_type": "text"
      },
      "source": [
        "<a href=\"https://colab.research.google.com/github/jamesauc/attendance-feb16/blob/main/james_assignment4.ipynb\" target=\"_parent\"><img src=\"https://colab.research.google.com/assets/colab-badge.svg\" alt=\"Open In Colab\"/></a>"
      ]
    },
    {
      "cell_type": "code",
      "execution_count": 4,
      "metadata": {
        "colab": {
          "base_uri": "https://localhost:8080/"
        },
        "id": "YZ4UYbP_1kTd",
        "outputId": "5c08e48d-5169-445a-d583-403836024602"
      },
      "outputs": [
        {
          "output_type": "stream",
          "name": "stdout",
          "text": [
            "Sorting took 0.0004093647003173828 seconds\n",
            "Sorting took 0.00010180473327636719 seconds\n",
            "Sorting took 0.00010752677917480469 seconds\n",
            "Sorting took 0.0004062652587890625 seconds\n",
            "Sorting took 4.982948303222656e-05 seconds\n",
            "Sorting took 0.00013399124145507812 seconds\n",
            "Sorting took 0.0003693103790283203 seconds\n",
            "Sorting took 0.0002808570861816406 seconds\n",
            "Sorting took 1.2636184692382812e-05 seconds\n",
            "Sorting took 9.226799011230469e-05 seconds\n",
            "Sorting took 0.000392913818359375 seconds\n",
            "Sorting took 0.000247955322265625 seconds\n",
            "Sorting took 0.0003895759582519531 seconds\n",
            "Sorting took 0.00017070770263671875 seconds\n",
            "Sorting took 6.151199340820312e-05 seconds\n",
            "Sorting took 0.00035881996154785156 seconds\n",
            "Sorting took 8.606910705566406e-05 seconds\n",
            "Sorting took 0.0001933574676513672 seconds\n",
            "Sorting took 3.24249267578125e-05 seconds\n",
            "Sorting took 0.0005469322204589844 seconds\n",
            "Sorting took 1.6927719116210938e-05 seconds\n",
            "Sorting took 1.811981201171875e-05 seconds\n",
            "Sorting took 2.5987625122070312e-05 seconds\n",
            "Sorting took 0.0001773834228515625 seconds\n",
            "Sorting took 0.0001201629638671875 seconds\n",
            "Sorting took 0.0003228187561035156 seconds\n",
            "Sorting took 0.0010251998901367188 seconds\n",
            "Sorting took 0.0001380443572998047 seconds\n",
            "Sorting took 0.00046896934509277344 seconds\n",
            "Sorting took 3.0040740966796875e-05 seconds\n",
            "Sorting took 0.00034689903259277344 seconds\n",
            "Sorting took 3.981590270996094e-05 seconds\n",
            "Sorting took 0.00017380714416503906 seconds\n",
            "Sorting took 0.00029277801513671875 seconds\n",
            "Sorting took 0.0002014636993408203 seconds\n",
            "Sorting took 4.1961669921875e-05 seconds\n",
            "Sorting took 0.0004260540008544922 seconds\n",
            "Sorting took 0.0002689361572265625 seconds\n",
            "Sorting took 9.5367431640625e-06 seconds\n",
            "Sorting took 0.00024008750915527344 seconds\n",
            "Sorting took 0.0002505779266357422 seconds\n",
            "Sorting took 0.00034046173095703125 seconds\n",
            "Sorting took 0.0005886554718017578 seconds\n",
            "Sorting took 8.368492126464844e-05 seconds\n",
            "Sorting took 0.00013327598571777344 seconds\n",
            "Sorting took 0.00048828125 seconds\n",
            "Sorting took 2.002716064453125e-05 seconds\n",
            "Sorting took 0.0002808570861816406 seconds\n",
            "Sorting took 0.00011777877807617188 seconds\n",
            "Sorting took 5.245208740234375e-05 seconds\n",
            "Sorting took 2.384185791015625e-05 seconds\n",
            "Sorting took 0.00012922286987304688 seconds\n",
            "Sorting took 0.000133514404296875 seconds\n",
            "Sorting took 0.0002675056457519531 seconds\n",
            "Sorting took 0.0003521442413330078 seconds\n",
            "Sorting took 5.245208740234375e-06 seconds\n",
            "Sorting took 0.0005354881286621094 seconds\n",
            "Sorting took 4.9591064453125e-05 seconds\n",
            "Sorting took 6.0558319091796875e-05 seconds\n",
            "Sorting took 0.00014662742614746094 seconds\n",
            "Sorting took 0.00013899803161621094 seconds\n",
            "Sorting took 6.413459777832031e-05 seconds\n",
            "Sorting took 0.000453948974609375 seconds\n",
            "Sorting took 0.0003223419189453125 seconds\n",
            "Sorting took 1.3113021850585938e-05 seconds\n",
            "Sorting took 1.4781951904296875e-05 seconds\n",
            "Sorting took 5.4836273193359375e-06 seconds\n",
            "Sorting took 0.0003833770751953125 seconds\n",
            "Sorting took 5.9604644775390625e-05 seconds\n",
            "Sorting took 6.246566772460938e-05 seconds\n",
            "Sorting took 5.0067901611328125e-06 seconds\n",
            "Sorting took 8.273124694824219e-05 seconds\n",
            "Sorting took 9.1552734375e-05 seconds\n",
            "Sorting took 2.384185791015625e-05 seconds\n",
            "Sorting took 0.0002865791320800781 seconds\n",
            "Sorting took 0.0001246929168701172 seconds\n",
            "Sorting took 0.00012493133544921875 seconds\n",
            "Sorting took 0.00032591819763183594 seconds\n",
            "Sorting took 2.5033950805664062e-05 seconds\n",
            "Sorting took 0.00013756752014160156 seconds\n",
            "Sorting took 0.00018310546875 seconds\n",
            "Sorting took 2.574920654296875e-05 seconds\n",
            "Sorting took 0.00022029876708984375 seconds\n",
            "Sorting took 0.0002739429473876953 seconds\n",
            "Sorting took 0.0001895427703857422 seconds\n",
            "Sorting took 0.0004036426544189453 seconds\n",
            "Sorting took 0.00017762184143066406 seconds\n",
            "Sorting took 5.435943603515625e-05 seconds\n",
            "Sorting took 0.00016117095947265625 seconds\n",
            "Sorting took 5.0067901611328125e-06 seconds\n",
            "Sorting took 0.00030040740966796875 seconds\n",
            "Sorting took 0.00015282630920410156 seconds\n",
            "Sorting took 3.170967102050781e-05 seconds\n",
            "Sorting took 6.580352783203125e-05 seconds\n",
            "Sorting took 0.00024271011352539062 seconds\n",
            "Sorting took 3.981590270996094e-05 seconds\n",
            "Sorting took 8.988380432128906e-05 seconds\n",
            "Sorting took 0.0002715587615966797 seconds\n",
            "Sorting took 0.00033402442932128906 seconds\n",
            "Sorting took 5.793571472167969e-05 seconds\n",
            "Results saved to bubble_sort_results.csv\n",
            "Size: 90, Swaps: 2009, Time: 0.000409 sec\n",
            "Size: 47, Swaps: 515, Time: 0.000102 sec\n",
            "Size: 48, Swaps: 632, Time: 0.000108 sec\n",
            "Size: 93, Swaps: 2183, Time: 0.000406 sec\n",
            "Size: 35, Swaps: 277, Time: 0.000050 sec\n"
          ]
        }
      ],
      "source": [
        "import random\n",
        "import time\n",
        "import csv\n",
        "\n",
        "def bubble_sort(arr):\n",
        "    n = len(arr)\n",
        "    swap_count = 0\n",
        "\n",
        "    for i in range(n):\n",
        "        swapped = False\n",
        "        for j in range(0, n - i - 1):\n",
        "            if arr[j] > arr[j + 1]:\n",
        "                arr[j], arr[j + 1] = arr[j + 1], arr[j]  # Swap elements\n",
        "                swap_count += 1\n",
        "                swapped = True\n",
        "\n",
        "        if not swapped:\n",
        "            break  # Optimization: Stop if the list is already sorted\n",
        "\n",
        "    return n, swap_count\n",
        "\n",
        "def generate_and_sort():\n",
        "    results = []\n",
        "    for _ in range(100):\n",
        "        list_size = random.randint(10, 100)\n",
        "        random_list = [random.randint(1, 1000) for _ in range(list_size)]\n",
        "\n",
        "        start_time = time.time()\n",
        "        size, swaps = bubble_sort(random_list)\n",
        "        end_time = time.time()\n",
        "\n",
        "        elapsed_time = end_time - start_time\n",
        "        print(f\"Sorting took {elapsed_time} seconds\")\n",
        "        results.append((size, swaps, elapsed_time))\n",
        "\n",
        "    return results\n",
        "\n",
        "def save_results_to_csv(data, filename=\"bubble_sort_results.csv\"):\n",
        "    with open(filename, mode='w', newline='') as file:\n",
        "        writer = csv.writer(file)\n",
        "        writer.writerow([\"List Size\", \"Swaps\", \"Execution Time (s)\"])\n",
        "        writer.writerows(data)\n",
        "    print(f\"Results saved to {filename}\")\n",
        "\n",
        "# Example usage:\n",
        "if __name__ == \"__main__\":\n",
        "    data = generate_and_sort()\n",
        "    save_results_to_csv(data)\n",
        "    for entry in data[:5]:  # Print first 5 results as sample\n",
        "        print(f\"Size: {entry[0]}, Swaps: {entry[1]}, Time: {entry[2]:.6f} sec\")\n",
        "\n"
      ]
    },
    {
      "cell_type": "code",
      "source": [
        "1+1"
      ],
      "metadata": {
        "colab": {
          "base_uri": "https://localhost:8080/"
        },
        "id": "XKTrNknF2UF3",
        "outputId": "adc46838-8bbc-495d-c0a8-2892418523d3"
      },
      "execution_count": 5,
      "outputs": [
        {
          "output_type": "execute_result",
          "data": {
            "text/plain": [
              "2"
            ]
          },
          "metadata": {},
          "execution_count": 5
        }
      ]
    },
    {
      "cell_type": "code",
      "source": [],
      "metadata": {
        "id": "WISfLZ8-2-uQ"
      },
      "execution_count": null,
      "outputs": []
    }
  ]
}